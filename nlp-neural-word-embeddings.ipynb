{
 "cells": [
  {
   "cell_type": "code",
   "execution_count": 1,
   "id": "45b2ad44",
   "metadata": {
    "_cell_guid": "b1076dfc-b9ad-4769-8c92-a6c4dae69d19",
    "_uuid": "8f2839f25d086af736a60e9eeb907d3b93b6e0e5",
    "execution": {
     "iopub.execute_input": "2024-03-14T17:52:45.202302Z",
     "iopub.status.busy": "2024-03-14T17:52:45.201399Z",
     "iopub.status.idle": "2024-03-14T19:53:43.875213Z",
     "shell.execute_reply": "2024-03-14T19:53:43.873338Z"
    },
    "papermill": {
     "duration": 7258.685007,
     "end_time": "2024-03-14T19:53:43.878053",
     "exception": false,
     "start_time": "2024-03-14T17:52:45.193046",
     "status": "completed"
    },
    "tags": []
   },
   "outputs": [
    {
     "name": "stdout",
     "output_type": "stream",
     "text": [
      "--2024-03-14 17:52:46--  https://archive.org/download/google-news-vectors-negative-300.bin_202311/GoogleNews-vectors-negative300.bin.gz\r\n",
      "Resolving archive.org (archive.org)... 207.241.224.2\r\n",
      "Connecting to archive.org (archive.org)|207.241.224.2|:443... connected.\r\n",
      "HTTP request sent, awaiting response... 302 Found\r\n",
      "Location: https://ia801203.us.archive.org/18/items/google-news-vectors-negative-300.bin_202311/GoogleNews-vectors-negative300.bin.gz [following]\r\n",
      "--2024-03-14 17:52:46--  https://ia801203.us.archive.org/18/items/google-news-vectors-negative-300.bin_202311/GoogleNews-vectors-negative300.bin.gz\r\n",
      "Resolving ia801203.us.archive.org (ia801203.us.archive.org)... 207.241.228.23\r\n",
      "Connecting to ia801203.us.archive.org (ia801203.us.archive.org)|207.241.228.23|:443... connected.\r\n",
      "HTTP request sent, awaiting response... 200 OK\r\n",
      "Length: 1647046227 (1.5G) [application/octet-stream]\r\n",
      "Saving to: 'GoogleNews-vectors-negative300.bin.gz'\r\n",
      "\r\n",
      "GoogleNews-vectors- 100%[===================>]   1.53G   177KB/s    in 2h 0m   \r\n",
      "\r\n",
      "2024-03-14 19:53:43 (222 KB/s) - 'GoogleNews-vectors-negative300.bin.gz' saved [1647046227/1647046227]\r\n",
      "\r\n"
     ]
    }
   ],
   "source": [
    "# Slower but always guaranteed to work\n",
    "!wget -nc https://archive.org/download/google-news-vectors-negative-300.bin_202311/GoogleNews-vectors-negative300.bin.gz\n",
    "\n",
    "# You are better off just downloading this from the source\n",
    "# https://drive.google.com/file/d/0B7XkCwpI5KDYNlNUTTlSS21pQmM/edit?usp=sharing\n",
    "# https://code.google.com/archive/p/word2vec/"
   ]
  },
  {
   "cell_type": "code",
   "execution_count": 2,
   "id": "3948f16a",
   "metadata": {
    "execution": {
     "iopub.execute_input": "2024-03-14T19:53:48.692552Z",
     "iopub.status.busy": "2024-03-14T19:53:48.692178Z",
     "iopub.status.idle": "2024-03-14T19:53:48.696499Z",
     "shell.execute_reply": "2024-03-14T19:53:48.695750Z"
    },
    "papermill": {
     "duration": 2.470535,
     "end_time": "2024-03-14T19:53:48.698866",
     "exception": false,
     "start_time": "2024-03-14T19:53:46.228331",
     "status": "completed"
    },
    "tags": []
   },
   "outputs": [],
   "source": [
    "# import gdown"
   ]
  },
  {
   "cell_type": "code",
   "execution_count": 3,
   "id": "247ae69d",
   "metadata": {
    "execution": {
     "iopub.execute_input": "2024-03-14T19:53:53.702171Z",
     "iopub.status.busy": "2024-03-14T19:53:53.701681Z",
     "iopub.status.idle": "2024-03-14T19:53:53.706481Z",
     "shell.execute_reply": "2024-03-14T19:53:53.705478Z"
    },
    "papermill": {
     "duration": 2.542634,
     "end_time": "2024-03-14T19:53:53.709339",
     "exception": false,
     "start_time": "2024-03-14T19:53:51.166705",
     "status": "completed"
    },
    "tags": []
   },
   "outputs": [],
   "source": [
    "# !gdown https://drive.google.com/uc?id=0B7XkCwpI5KDYNlNUTTlSS21pQmM"
   ]
  },
  {
   "cell_type": "code",
   "execution_count": 4,
   "id": "4683b862",
   "metadata": {
    "execution": {
     "iopub.execute_input": "2024-03-14T19:53:58.600128Z",
     "iopub.status.busy": "2024-03-14T19:53:58.599769Z",
     "iopub.status.idle": "2024-03-14T19:54:43.918060Z",
     "shell.execute_reply": "2024-03-14T19:54:43.914209Z"
    },
    "papermill": {
     "duration": 47.798005,
     "end_time": "2024-03-14T19:54:43.932387",
     "exception": false,
     "start_time": "2024-03-14T19:53:56.134382",
     "status": "completed"
    },
    "tags": []
   },
   "outputs": [],
   "source": [
    "!gunzip GoogleNews-vectors-negative300.bin.gz"
   ]
  },
  {
   "cell_type": "code",
   "execution_count": 5,
   "id": "76bbb9ad",
   "metadata": {
    "execution": {
     "iopub.execute_input": "2024-03-14T19:54:50.635546Z",
     "iopub.status.busy": "2024-03-14T19:54:50.632801Z",
     "iopub.status.idle": "2024-03-14T19:55:03.146777Z",
     "shell.execute_reply": "2024-03-14T19:55:03.145647Z"
    },
    "papermill": {
     "duration": 15.420226,
     "end_time": "2024-03-14T19:55:03.149730",
     "exception": false,
     "start_time": "2024-03-14T19:54:47.729504",
     "status": "completed"
    },
    "tags": []
   },
   "outputs": [],
   "source": [
    "from gensim.models import KeyedVectors"
   ]
  },
  {
   "cell_type": "code",
   "execution_count": 6,
   "id": "70da534c",
   "metadata": {
    "execution": {
     "iopub.execute_input": "2024-03-14T19:55:08.185042Z",
     "iopub.status.busy": "2024-03-14T19:55:08.184002Z",
     "iopub.status.idle": "2024-03-14T19:56:01.630046Z",
     "shell.execute_reply": "2024-03-14T19:56:01.628233Z"
    },
    "papermill": {
     "duration": 55.961394,
     "end_time": "2024-03-14T19:56:01.633670",
     "exception": false,
     "start_time": "2024-03-14T19:55:05.672276",
     "status": "completed"
    },
    "tags": []
   },
   "outputs": [],
   "source": [
    "word_vectors = KeyedVectors.load_word2vec_format(\n",
    "  'GoogleNews-vectors-negative300.bin',\n",
    "  binary=True\n",
    ")"
   ]
  },
  {
   "cell_type": "code",
   "execution_count": 7,
   "id": "dfcf94d6",
   "metadata": {
    "execution": {
     "iopub.execute_input": "2024-03-14T19:56:06.524542Z",
     "iopub.status.busy": "2024-03-14T19:56:06.524141Z",
     "iopub.status.idle": "2024-03-14T19:56:06.529701Z",
     "shell.execute_reply": "2024-03-14T19:56:06.528978Z"
    },
    "papermill": {
     "duration": 2.485441,
     "end_time": "2024-03-14T19:56:06.531557",
     "exception": false,
     "start_time": "2024-03-14T19:56:04.046116",
     "status": "completed"
    },
    "tags": []
   },
   "outputs": [],
   "source": [
    "def find_analogies(w1, w2, w3):\n",
    "  # w1 - w2 = ? - w3\n",
    "  # e.g. king - man = ? - woman\n",
    "  #      ? = +king +woman -man\n",
    "  r = word_vectors.most_similar(positive=[w1, w3], negative=[w2])\n",
    "  print(\"%s - %s = %s - %s\" % (w1, w2, r[0][0], w3))"
   ]
  },
  {
   "cell_type": "code",
   "execution_count": 8,
   "id": "d8ce8328",
   "metadata": {
    "execution": {
     "iopub.execute_input": "2024-03-14T19:56:11.413436Z",
     "iopub.status.busy": "2024-03-14T19:56:11.413074Z",
     "iopub.status.idle": "2024-03-14T19:56:13.836324Z",
     "shell.execute_reply": "2024-03-14T19:56:13.834932Z"
    },
    "papermill": {
     "duration": 4.872163,
     "end_time": "2024-03-14T19:56:13.841272",
     "exception": false,
     "start_time": "2024-03-14T19:56:08.969109",
     "status": "completed"
    },
    "tags": []
   },
   "outputs": [
    {
     "name": "stdout",
     "output_type": "stream",
     "text": [
      "king - man = queen - woman\n"
     ]
    }
   ],
   "source": [
    "find_analogies('king', 'man', 'woman')"
   ]
  },
  {
   "cell_type": "code",
   "execution_count": 9,
   "id": "597a24c4",
   "metadata": {
    "execution": {
     "iopub.execute_input": "2024-03-14T19:56:18.712941Z",
     "iopub.status.busy": "2024-03-14T19:56:18.712545Z",
     "iopub.status.idle": "2024-03-14T19:56:18.983796Z",
     "shell.execute_reply": "2024-03-14T19:56:18.982394Z"
    },
    "papermill": {
     "duration": 2.688862,
     "end_time": "2024-03-14T19:56:18.987774",
     "exception": false,
     "start_time": "2024-03-14T19:56:16.298912",
     "status": "completed"
    },
    "tags": []
   },
   "outputs": [
    {
     "name": "stdout",
     "output_type": "stream",
     "text": [
      "france - paris = england - london\n"
     ]
    }
   ],
   "source": [
    "find_analogies('france', 'paris', 'london')"
   ]
  },
  {
   "cell_type": "code",
   "execution_count": 10,
   "id": "5d786bab",
   "metadata": {
    "execution": {
     "iopub.execute_input": "2024-03-14T19:56:23.762614Z",
     "iopub.status.busy": "2024-03-14T19:56:23.761952Z",
     "iopub.status.idle": "2024-03-14T19:56:24.003407Z",
     "shell.execute_reply": "2024-03-14T19:56:24.002345Z"
    },
    "papermill": {
     "duration": 2.587879,
     "end_time": "2024-03-14T19:56:24.007145",
     "exception": false,
     "start_time": "2024-03-14T19:56:21.419266",
     "status": "completed"
    },
    "tags": []
   },
   "outputs": [
    {
     "name": "stdout",
     "output_type": "stream",
     "text": [
      "france - paris = italy - rome\n"
     ]
    }
   ],
   "source": [
    "find_analogies('france', 'paris', 'rome')"
   ]
  },
  {
   "cell_type": "code",
   "execution_count": 11,
   "id": "d6ebab55",
   "metadata": {
    "execution": {
     "iopub.execute_input": "2024-03-14T19:56:28.903574Z",
     "iopub.status.busy": "2024-03-14T19:56:28.903149Z",
     "iopub.status.idle": "2024-03-14T19:56:29.122444Z",
     "shell.execute_reply": "2024-03-14T19:56:29.121001Z"
    },
    "papermill": {
     "duration": 2.676887,
     "end_time": "2024-03-14T19:56:29.126938",
     "exception": false,
     "start_time": "2024-03-14T19:56:26.450051",
     "status": "completed"
    },
    "tags": []
   },
   "outputs": [
    {
     "name": "stdout",
     "output_type": "stream",
     "text": [
      "paris - france = lohan - italy\n"
     ]
    }
   ],
   "source": [
    "find_analogies('paris', 'france', 'italy')"
   ]
  },
  {
   "cell_type": "code",
   "execution_count": 12,
   "id": "cc2c0ada",
   "metadata": {
    "execution": {
     "iopub.execute_input": "2024-03-14T19:56:34.090433Z",
     "iopub.status.busy": "2024-03-14T19:56:34.089815Z",
     "iopub.status.idle": "2024-03-14T19:56:34.325023Z",
     "shell.execute_reply": "2024-03-14T19:56:34.323539Z"
    },
    "papermill": {
     "duration": 2.735746,
     "end_time": "2024-03-14T19:56:34.329125",
     "exception": false,
     "start_time": "2024-03-14T19:56:31.593379",
     "status": "completed"
    },
    "tags": []
   },
   "outputs": [
    {
     "name": "stdout",
     "output_type": "stream",
     "text": [
      "france - french = england - english\n"
     ]
    }
   ],
   "source": [
    "find_analogies('france', 'french', 'english')"
   ]
  },
  {
   "cell_type": "code",
   "execution_count": 13,
   "id": "0589121d",
   "metadata": {
    "execution": {
     "iopub.execute_input": "2024-03-14T19:56:39.085388Z",
     "iopub.status.busy": "2024-03-14T19:56:39.085015Z",
     "iopub.status.idle": "2024-03-14T19:56:39.329741Z",
     "shell.execute_reply": "2024-03-14T19:56:39.328666Z"
    },
    "papermill": {
     "duration": 2.581027,
     "end_time": "2024-03-14T19:56:39.335665",
     "exception": false,
     "start_time": "2024-03-14T19:56:36.754638",
     "status": "completed"
    },
    "tags": []
   },
   "outputs": [
    {
     "name": "stdout",
     "output_type": "stream",
     "text": [
      "japan - japanese = tibet - chinese\n"
     ]
    }
   ],
   "source": [
    "find_analogies('japan', 'japanese', 'chinese')"
   ]
  },
  {
   "cell_type": "code",
   "execution_count": 14,
   "id": "cd754906",
   "metadata": {
    "execution": {
     "iopub.execute_input": "2024-03-14T19:56:44.253830Z",
     "iopub.status.busy": "2024-03-14T19:56:44.253385Z",
     "iopub.status.idle": "2024-03-14T19:56:44.258356Z",
     "shell.execute_reply": "2024-03-14T19:56:44.257584Z"
    },
    "papermill": {
     "duration": 2.464202,
     "end_time": "2024-03-14T19:56:44.260251",
     "exception": false,
     "start_time": "2024-03-14T19:56:41.796049",
     "status": "completed"
    },
    "tags": []
   },
   "outputs": [],
   "source": [
    "def nearest_neighbors(w):\n",
    "  r = word_vectors.most_similar(positive=[w])\n",
    "  print(\"neighbors of: %s\" % w)\n",
    "  for word, score in r:\n",
    "    print(\"\\t%s\" % word)"
   ]
  },
  {
   "cell_type": "code",
   "execution_count": 15,
   "id": "d1b72544",
   "metadata": {
    "execution": {
     "iopub.execute_input": "2024-03-14T19:56:49.135018Z",
     "iopub.status.busy": "2024-03-14T19:56:49.134298Z",
     "iopub.status.idle": "2024-03-14T19:56:49.370334Z",
     "shell.execute_reply": "2024-03-14T19:56:49.368914Z"
    },
    "papermill": {
     "duration": 2.672184,
     "end_time": "2024-03-14T19:56:49.374890",
     "exception": false,
     "start_time": "2024-03-14T19:56:46.702706",
     "status": "completed"
    },
    "tags": []
   },
   "outputs": [
    {
     "name": "stdout",
     "output_type": "stream",
     "text": [
      "neighbors of: king\n",
      "\tkings\n",
      "\tqueen\n",
      "\tmonarch\n",
      "\tcrown_prince\n",
      "\tprince\n",
      "\tsultan\n",
      "\truler\n",
      "\tprinces\n",
      "\tPrince_Paras\n",
      "\tthrone\n"
     ]
    }
   ],
   "source": [
    "nearest_neighbors('king')"
   ]
  },
  {
   "cell_type": "code",
   "execution_count": 16,
   "id": "26441c9a",
   "metadata": {
    "execution": {
     "iopub.execute_input": "2024-03-14T19:56:54.172495Z",
     "iopub.status.busy": "2024-03-14T19:56:54.172111Z",
     "iopub.status.idle": "2024-03-14T19:56:54.412630Z",
     "shell.execute_reply": "2024-03-14T19:56:54.411416Z"
    },
    "papermill": {
     "duration": 2.669302,
     "end_time": "2024-03-14T19:56:54.416568",
     "exception": false,
     "start_time": "2024-03-14T19:56:51.747266",
     "status": "completed"
    },
    "tags": []
   },
   "outputs": [
    {
     "name": "stdout",
     "output_type": "stream",
     "text": [
      "neighbors of: france\n",
      "\tspain\n",
      "\tfrench\n",
      "\tgermany\n",
      "\teurope\n",
      "\titaly\n",
      "\tengland\n",
      "\teuropean\n",
      "\tbelgium\n",
      "\tusa\n",
      "\tserbia\n"
     ]
    }
   ],
   "source": [
    "nearest_neighbors('france')"
   ]
  },
  {
   "cell_type": "code",
   "execution_count": 17,
   "id": "56893057",
   "metadata": {
    "execution": {
     "iopub.execute_input": "2024-03-14T19:56:59.287800Z",
     "iopub.status.busy": "2024-03-14T19:56:59.287388Z",
     "iopub.status.idle": "2024-03-14T19:56:59.518554Z",
     "shell.execute_reply": "2024-03-14T19:56:59.517016Z"
    },
    "papermill": {
     "duration": 2.648155,
     "end_time": "2024-03-14T19:56:59.523731",
     "exception": false,
     "start_time": "2024-03-14T19:56:56.875576",
     "status": "completed"
    },
    "tags": []
   },
   "outputs": [
    {
     "name": "stdout",
     "output_type": "stream",
     "text": [
      "neighbors of: japan\n",
      "\tjapanese\n",
      "\ttokyo\n",
      "\tamerica\n",
      "\teurope\n",
      "\tgermany\n",
      "\tchinese\n",
      "\tindia\n",
      "\thawaii\n",
      "\tusa\n",
      "\tkorea\n"
     ]
    }
   ],
   "source": [
    "nearest_neighbors('japan')"
   ]
  },
  {
   "cell_type": "code",
   "execution_count": 18,
   "id": "72d5294c",
   "metadata": {
    "execution": {
     "iopub.execute_input": "2024-03-14T19:57:04.382922Z",
     "iopub.status.busy": "2024-03-14T19:57:04.382459Z",
     "iopub.status.idle": "2024-03-14T19:57:04.632947Z",
     "shell.execute_reply": "2024-03-14T19:57:04.631539Z"
    },
    "papermill": {
     "duration": 2.660694,
     "end_time": "2024-03-14T19:57:04.637613",
     "exception": false,
     "start_time": "2024-03-14T19:57:01.976919",
     "status": "completed"
    },
    "tags": []
   },
   "outputs": [
    {
     "name": "stdout",
     "output_type": "stream",
     "text": [
      "neighbors of: einstein\n",
      "\tnikki\n",
      "\tlmfao\n",
      "\talbert\n",
      "\tarmstrong\n",
      "\tjoan\n",
      "\tbecky\n",
      "\tmcmahon\n",
      "\tconrad\n",
      "\tlori\n",
      "\thaley\n"
     ]
    }
   ],
   "source": [
    "nearest_neighbors('einstein')"
   ]
  },
  {
   "cell_type": "code",
   "execution_count": 19,
   "id": "236a9585",
   "metadata": {
    "execution": {
     "iopub.execute_input": "2024-03-14T19:57:09.494977Z",
     "iopub.status.busy": "2024-03-14T19:57:09.494544Z",
     "iopub.status.idle": "2024-03-14T19:57:09.734481Z",
     "shell.execute_reply": "2024-03-14T19:57:09.733227Z"
    },
    "papermill": {
     "duration": 2.662562,
     "end_time": "2024-03-14T19:57:09.738396",
     "exception": false,
     "start_time": "2024-03-14T19:57:07.075834",
     "status": "completed"
    },
    "tags": []
   },
   "outputs": [
    {
     "name": "stdout",
     "output_type": "stream",
     "text": [
      "neighbors of: woman\n",
      "\tman\n",
      "\tgirl\n",
      "\tteenage_girl\n",
      "\tteenager\n",
      "\tlady\n",
      "\tteenaged_girl\n",
      "\tmother\n",
      "\tpolicewoman\n",
      "\tboy\n",
      "\tWoman\n"
     ]
    }
   ],
   "source": [
    "nearest_neighbors('woman')"
   ]
  },
  {
   "cell_type": "code",
   "execution_count": null,
   "id": "13ece4e8",
   "metadata": {
    "papermill": {
     "duration": 2.331669,
     "end_time": "2024-03-14T19:57:14.500707",
     "exception": false,
     "start_time": "2024-03-14T19:57:12.169038",
     "status": "completed"
    },
    "tags": []
   },
   "outputs": [],
   "source": []
  },
  {
   "cell_type": "code",
   "execution_count": null,
   "id": "d1eb815c",
   "metadata": {
    "papermill": {
     "duration": 2.381272,
     "end_time": "2024-03-14T19:57:19.339941",
     "exception": false,
     "start_time": "2024-03-14T19:57:16.958669",
     "status": "completed"
    },
    "tags": []
   },
   "outputs": [],
   "source": []
  }
 ],
 "metadata": {
  "kaggle": {
   "accelerator": "none",
   "dataSources": [],
   "dockerImageVersionId": 30664,
   "isGpuEnabled": false,
   "isInternetEnabled": true,
   "language": "python",
   "sourceType": "notebook"
  },
  "kernelspec": {
   "display_name": "Python 3",
   "language": "python",
   "name": "python3"
  },
  "language_info": {
   "codemirror_mode": {
    "name": "ipython",
    "version": 3
   },
   "file_extension": ".py",
   "mimetype": "text/x-python",
   "name": "python",
   "nbconvert_exporter": "python",
   "pygments_lexer": "ipython3",
   "version": "3.10.13"
  },
  "papermill": {
   "default_parameters": {},
   "duration": 7481.056496,
   "end_time": "2024-03-14T19:57:23.097712",
   "environment_variables": {},
   "exception": null,
   "input_path": "__notebook__.ipynb",
   "output_path": "__notebook__.ipynb",
   "parameters": {},
   "start_time": "2024-03-14T17:52:42.041216",
   "version": "2.5.0"
  }
 },
 "nbformat": 4,
 "nbformat_minor": 5
}
